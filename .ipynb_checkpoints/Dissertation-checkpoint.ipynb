{
 "cells": [
  {
   "cell_type": "markdown",
   "id": "d23d3225-263d-4bf4-b3bd-713ed38cf291",
   "metadata": {},
   "source": [
    "# Dissertation about Crime hotspot spatial analysis"
   ]
  },
  {
   "cell_type": "code",
   "execution_count": null,
   "id": "88ab098d-c3fd-4622-8f69-f49cac11ec5f",
   "metadata": {},
   "outputs": [],
   "source": []
  },
  {
   "cell_type": "code",
   "execution_count": null,
   "id": "4fd01c42-b105-4f06-bc5e-88c47f7c010b",
   "metadata": {},
   "outputs": [],
   "source": []
  },
  {
   "cell_type": "code",
   "execution_count": null,
   "id": "09e8d5b3-0184-4850-b8ae-a0357e52874d",
   "metadata": {},
   "outputs": [],
   "source": []
  },
  {
   "cell_type": "code",
   "execution_count": null,
   "id": "c142bb13-3e8f-4fc8-8f10-745c5e7fbd0f",
   "metadata": {},
   "outputs": [],
   "source": []
  },
  {
   "cell_type": "code",
   "execution_count": null,
   "id": "a4c7510a-58c5-4e61-bf4a-3dc5c00f2108",
   "metadata": {},
   "outputs": [],
   "source": []
  },
  {
   "cell_type": "code",
   "execution_count": null,
   "id": "e9f27998-4cc3-4a4e-9d59-965cf988cc1d",
   "metadata": {},
   "outputs": [],
   "source": []
  }
 ],
 "metadata": {
  "kernelspec": {
   "display_name": "Python 3 (ipykernel)",
   "language": "python",
   "name": "python3"
  },
  "language_info": {
   "codemirror_mode": {
    "name": "ipython",
    "version": 3
   },
   "file_extension": ".py",
   "mimetype": "text/x-python",
   "name": "python",
   "nbconvert_exporter": "python",
   "pygments_lexer": "ipython3",
   "version": "3.11.5"
  }
 },
 "nbformat": 4,
 "nbformat_minor": 5
}
